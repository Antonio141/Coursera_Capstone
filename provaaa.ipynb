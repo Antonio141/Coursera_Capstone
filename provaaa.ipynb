{
 "metadata": {
  "language_info": {
   "codemirror_mode": {
    "name": "ipython",
    "version": 3
   },
   "file_extension": ".py",
   "mimetype": "text/x-python",
   "name": "python",
   "nbconvert_exporter": "python",
   "pygments_lexer": "ipython3",
   "version": "3.7.4-final"
  },
  "orig_nbformat": 2,
  "kernelspec": {
   "name": "Python 3.7.4 32-bit (conda)",
   "display_name": "Python 3.7.4 32-bit (conda)",
   "metadata": {
    "interpreter": {
     "hash": "38740d3277777e2cd7c6c2cc9d8addf5118fdf3f82b1b39231fd12aeac8aee8b"
    }
   }
  }
 },
 "nbformat": 4,
 "nbformat_minor": 2,
 "cells": [
  {
   "cell_type": "code",
   "execution_count": 1,
   "metadata": {},
   "outputs": [],
   "source": [
    "import pandas as pd\n",
    "import numpy as np\n",
    "import matplotlib.pyplot as plt\n",
    "import seaborn as sns"
   ]
  },
  {
   "source": [
    "## Load DataFrame"
   ],
   "cell_type": "markdown",
   "metadata": {}
  },
  {
   "cell_type": "code",
   "execution_count": 2,
   "metadata": {},
   "outputs": [],
   "source": [
    "df = pd.read_csv('D:/personale/MACHINELEARNING/IBM/capstone/df_district.csv')\n",
    "pd.set_option('display.max_rows', None)\n",
    "pd.set_option('display.max_columns', None)"
   ]
  },
  {
   "source": [
    "## Time change"
   ],
   "cell_type": "markdown",
   "metadata": {}
  },
  {
   "source": [
    "## SNIPPET FOR GRAPH"
   ],
   "cell_type": "markdown",
   "metadata": {}
  },
  {
   "cell_type": "code",
   "execution_count": 3,
   "metadata": {},
   "outputs": [],
   "source": [
    "# temp= df.groupby(['UNDERINFL', 'DISTRICT'])['SEVERITYCODE'].value_counts(normalize=True).mul(100).rename('percentage').reset_index().sort_index()\n",
    "# # temp\n",
    "# # figsize=(6,6)\n",
    "# plt.figure()\n",
    "# chart = sns.barplot(data = temp, x = 'percentage', y= 'UNDERINFL', hue= 'SEVERITYCODE', linewidth=2, palette='PuOr')\n",
    "# chart.set_title('SEVERITY BY CYCLISTS INVOLVED', weight='bold')\n",
    "# chart.set_xticklabels(chart.get_xticklabels(), rotation=45, horizontalalignment='right')\n",
    "# chart.set_yticklabels(chart.get_yticklabels(), rotation=0, horizontalalignment='right', style='italic')\n",
    "# chart.set_xlabel('Percentage')\n",
    "# chart.set_ylabel('Cyclists Involved')\n",
    "# chart.set_xbound(upper=115)\n",
    "# # chart.set_ybound(lower=-1,upper=10)\n",
    "\n",
    "# plt.legend(bbox_to_anchor=(1.05, 1), loc=2, borderaxespad=0.)\n",
    "\n",
    "# total=100\n",
    "# new_value=0.5\n",
    "# for p in chart.patches:\n",
    "#         percent = '{:.1f}%'.format(100 * p.get_width()/total)\n",
    "#         x =  p.get_width() + .5\n",
    "#         y = p.get_y() + p.get_height() - .15 \n",
    "#         chart.annotate(percent, (x, y), fontsize=10, color='k', weight='bold', style='italic')"
   ]
  },
  {
   "source": [
    "# WEEKDAY"
   ],
   "cell_type": "markdown",
   "metadata": {}
  },
  {
   "cell_type": "code",
   "execution_count": 4,
   "metadata": {},
   "outputs": [],
   "source": [
    "# plt.figure()\n",
    "# chart1= sns.catplot(x='WEEKDAY',hue='SEVERITYCODE', col='DISTRICT', data=df, kind='count',sharey=False, col_wrap= 4, sharex=False)\n",
    "# chart1.set_xticklabels(labels=['Mon','Tue','Wed','Thu','Fri','Sat','Sun'], rotation=45, horizontalalignment='right')\n",
    "# plt.subplots_adjust(hspace=0.4, wspace=0.4)\n",
    "# chart.set(xticklables= ['Mon','Tue','Wed','Thu','Fri','Sat','Sun'], rotation=45,orizontalalignment='right')"
   ]
  },
  {
   "source": [
    "# WEATHER\n"
   ],
   "cell_type": "markdown",
   "metadata": {}
  },
  {
   "cell_type": "code",
   "execution_count": 5,
   "metadata": {},
   "outputs": [],
   "source": [
    "# df['WEATHER'].replace(to_replace= ('Sleet/Hail/Freezing Rain', 'Blowing Sand/Dirt', 'Severe Crosswind',                 'Partly Cloudy', 'Snowing', np.nan), value='Other', inplace=True)\n",
    "# df['WEATHER'].replace(to_replace= np.nan, value='Unknown', inplace=True)\n",
    "# df['WEATHER'].value_counts()"
   ]
  },
  {
   "source": [
    "# ROAD CONDITIONS"
   ],
   "cell_type": "markdown",
   "metadata": {}
  },
  {
   "cell_type": "code",
   "execution_count": 6,
   "metadata": {},
   "outputs": [],
   "source": [
    "# df['ROADCOND'].replace(to_replace= np.nan,value='Unknown', inplace=True)\n",
    "# df['ROADCOND'].replace(to_replace=('Dry', 'Wet'), value='Dry/Wet', inplace=True)\n",
    "# df['ROADCOND'].replace(to_replace=('Ice', 'Snow/Slush'), value='Ice/Snow', inplace=True)\n",
    "# df['ROADCOND'].replace(to_replace=('Standing Water', 'Sand/Mud/Dirt', 'Oil'), value='Other', inplace=True)"
   ]
  },
  {
   "source": [
    "# LIGHT CONDITIONS"
   ],
   "cell_type": "markdown",
   "metadata": {}
  },
  {
   "cell_type": "code",
   "execution_count": 7,
   "metadata": {},
   "outputs": [],
   "source": [
    "# df['LIGHTCOND'].replace(to_replace= np.nan,value='Unknown', inplace=True)\n",
    "# df['LIGHTCOND'].replace(to_replace=('Dawn', 'Dusk', 'Daylight'), value='Light', inplace=True)\n",
    "# df['LIGHTCOND'].replace(to_replace=('Dark - Street Lights On', 'Dark - No Street Lights','Dark - Street Lights Off', 'Dark - Unknown Lighting'), value='Dark', inplace=True)\n",
    "# df['LIGHTCOND'].value_counts()"
   ]
  },
  {
   "source": [
    "# ADDRESS TYPE"
   ],
   "cell_type": "markdown",
   "metadata": {}
  },
  {
   "cell_type": "code",
   "execution_count": 8,
   "metadata": {},
   "outputs": [],
   "source": [
    "# df['ADDRTYPE'].replace(np.nan,'Unknown',inplace=True)\n",
    "# df['ADDRTYPE'].value_counts(dropna=False)"
   ]
  },
  {
   "cell_type": "code",
   "execution_count": 9,
   "metadata": {},
   "outputs": [],
   "source": [
    "# temp= df.groupby(['ADDRTYPE'])['SEVERITYCODE'].value_counts(normalize=True).mul(100).rename('percentage').reset_index().sort_index()\n",
    "\n",
    "# plt.figure()\n",
    "# chart = sns.barplot(data = temp, x = 'percentage', y= 'ADDRTYPE', hue= 'SEVERITYCODE', linewidth=2, palette='PuOr')\n",
    "# chart.set_title('SEVERITY BY ADDRESS ', weight='bold')\n",
    "# chart.set_xticklabels(chart.get_xticklabels(), rotation=45, horizontalalignment='right')\n",
    "# chart.set_yticklabels(chart.get_yticklabels(), rotation=0, horizontalalignment='right', style='italic')\n",
    "# chart.set_xlabel('Percentage')\n",
    "# chart.set_ylabel('INCIDENT LOCATION')\n",
    "# chart.set_xbound(upper=115)\n",
    "# # chart.set_ybound(lower=-1,upper=10)\n",
    "\n",
    "# plt.legend(bbox_to_anchor=(1.05, 1), loc=2, borderaxespad=0.)\n",
    "\n",
    "# total=100\n",
    "# new_value=0.5\n",
    "# for p in chart.patches:\n",
    "#         percent = '{:.1f}%'.format(100 * p.get_width()/total)\n",
    "#         x =  p.get_width() + .5\n",
    "#         y = p.get_y() + p.get_height() - .15 \n",
    "#         chart.annotate(percent, (x, y), fontsize=10, color='k', weight='bold', style='italic')"
   ]
  },
  {
   "cell_type": "code",
   "execution_count": 10,
   "metadata": {},
   "outputs": [],
   "source": [
    "# df['ADDRTYPE'].replace(to_replace='Unknown', value='Alley', inplace=True)"
   ]
  },
  {
   "source": [
    "# COLLISIONTYPE"
   ],
   "cell_type": "markdown",
   "metadata": {}
  },
  {
   "cell_type": "code",
   "execution_count": 11,
   "metadata": {},
   "outputs": [
    {
     "output_type": "execute_result",
     "data": {
      "text/plain": "Parked Car    47987\nAngles        34674\nRear Ended    34090\nOther         23703\nSideswipe     18609\nLeft Turn     13703\nPedestrian     6608\nCycles         5415\nNaN            4904\nRight Turn     2956\nHead On        2024\nName: COLLISIONTYPE, dtype: int64"
     },
     "metadata": {},
     "execution_count": 11
    }
   ],
   "source": [
    "df['COLLISIONTYPE'].value_counts(dropna=False)"
   ]
  },
  {
   "cell_type": "code",
   "execution_count": null,
   "metadata": {},
   "outputs": [],
   "source": [
    "r, _ = np.where(df[['COLLISIONTYPE']].isna())\n",
    "r = np.unique(r).tolist()\n",
    "df.info()\n",
    "# df['ST_COLDESC', 'SDOT_COLDESC'][r].unique()"
   ]
  },
  {
   "cell_type": "code",
   "execution_count": null,
   "metadata": {},
   "outputs": [],
   "source": []
  }
 ]
}