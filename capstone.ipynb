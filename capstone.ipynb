{
 "metadata": {
  "language_info": {
   "codemirror_mode": {
    "name": "ipython",
    "version": 3
   },
   "file_extension": ".py",
   "mimetype": "text/x-python",
   "name": "python",
   "nbconvert_exporter": "python",
   "pygments_lexer": "ipython3",
   "version": "3.7.4-final"
  },
  "orig_nbformat": 2,
  "kernelspec": {
   "name": "python37432bitvirtualenvd44a3bc943a048efa94309241381b504",
   "display_name": "Python 3.7.4 32-bit (virtualenv)"
  }
 },
 "nbformat": 4,
 "nbformat_minor": 2,
 "cells": [
  {
   "cell_type": "markdown",
   "metadata": {},
   "source": [
    "## This Jupyter Notebook will be used to perform the Coursera Capstone Project"
   ]
  },
  {
   "cell_type": "code",
   "execution_count": 6,
   "metadata": {
    "tags": []
   },
   "outputs": [
    {
     "output_type": "stream",
     "name": "stdout",
     "text": "Hello Capstone Project Course!\n"
    }
   ],
   "source": [
    "import pandas as pd\n",
    "import numpy as np\n",
    "\n",
    "\n",
    "print('Hello Capstone Project Course!')"
   ]
  },
  {
   "cell_type": "code",
   "execution_count": 34,
   "metadata": {
    "tags": []
   },
   "outputs": [
    {
     "output_type": "stream",
     "name": "stdout",
     "text": "<class 'pandas.core.frame.DataFrame'>\nRangeIndex: 194673 entries, 0 to 194672\nData columns (total 38 columns):\nSEVERITYCODE      194673 non-null int64\nX                 189339 non-null float64\nY                 189339 non-null float64\nOBJECTID          194673 non-null int64\nINCKEY            194673 non-null int64\nCOLDETKEY         194673 non-null int64\nREPORTNO          194673 non-null object\nSTATUS            194673 non-null object\nADDRTYPE          192747 non-null object\nINTKEY            65070 non-null float64\nLOCATION          191996 non-null object\nEXCEPTRSNCODE     84811 non-null object\nEXCEPTRSNDESC     5638 non-null object\nSEVERITYCODE.1    194673 non-null int64\nSEVERITYDESC      194673 non-null object\nCOLLISIONTYPE     189769 non-null object\nPERSONCOUNT       194673 non-null int64\nPEDCOUNT          194673 non-null int64\nPEDCYLCOUNT       194673 non-null int64\nVEHCOUNT          194673 non-null int64\nINCDATE           194673 non-null object\nINCDTTM           194673 non-null object\nJUNCTIONTYPE      188344 non-null object\nSDOT_COLCODE      194673 non-null int64\nSDOT_COLDESC      194673 non-null object\nINATTENTIONIND    29805 non-null object\nUNDERINFL         189789 non-null object\nWEATHER           189592 non-null object\nROADCOND          189661 non-null object\nLIGHTCOND         189503 non-null object\nPEDROWNOTGRNT     4667 non-null object\nSDOTCOLNUM        114936 non-null float64\nSPEEDING          9333 non-null object\nST_COLCODE        194655 non-null object\nST_COLDESC        189769 non-null object\nSEGLANEKEY        194673 non-null int64\nCROSSWALKKEY      194673 non-null int64\nHITPARKEDCAR      194673 non-null object\ndtypes: float64(4), int64(12), object(22)\nmemory usage: 40.1+ MB\n"
    }
   ],
   "source": [
    "df = pd.read_csv('D:/personale/MACHINELEARNING/IBM/capstone/Data-Collisions.csv')\n",
    "df.info()\n",
    "# df['SEVERITYCODE'].unique()"
   ]
  },
  {
   "cell_type": "code",
   "execution_count": 8,
   "metadata": {},
   "outputs": [],
   "source": [
    "import matplotlib.pyplot as plt\n",
    "import seaborn as sns\n"
   ]
  },
  {
   "cell_type": "code",
   "execution_count": null,
   "metadata": {},
   "outputs": [],
   "source": [
    "df['JUNCTIONTYPE'].values_count()"
   ]
  },
  {
   "cell_type": "code",
   "execution_count": null,
   "metadata": {},
   "outputs": [],
   "source": []
  }
 ]
}