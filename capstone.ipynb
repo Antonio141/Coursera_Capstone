{
 "metadata": {
  "language_info": {
   "codemirror_mode": {
    "name": "ipython",
    "version": 3
   },
   "file_extension": ".py",
   "mimetype": "text/x-python",
   "name": "python",
   "nbconvert_exporter": "python",
   "pygments_lexer": "ipython3",
   "version": "3.7.4-final"
  },
  "orig_nbformat": 2,
  "kernelspec": {
   "name": "python37432bitvirtualenvd44a3bc943a048efa94309241381b504",
   "display_name": "Python 3.7.4 32-bit (virtualenv)"
  }
 },
 "nbformat": 4,
 "nbformat_minor": 2,
 "cells": [
  {
   "cell_type": "markdown",
   "metadata": {},
   "source": [
    "## This Jupyter Notebook will be used to perform the Coursera Capstone Project"
   ]
  },
  {
   "cell_type": "code",
   "execution_count": 2,
   "metadata": {
    "tags": []
   },
   "outputs": [
    {
     "output_type": "stream",
     "name": "stdout",
     "text": "Hello Capstone Project Course!\n"
    }
   ],
   "source": [
    "# %config IPCompleter.greedy=True\n",
    "import pandas as pd\n",
    "import numpy as np\n",
    "\n",
    "\n",
    "print('Hello Capstone Project Course!')"
   ]
  },
  {
   "cell_type": "code",
   "execution_count": 3,
   "metadata": {},
   "outputs": [],
   "source": [
    "import matplotlib.pyplot as plt\n",
    "import seaborn as sns\n"
   ]
  },
  {
   "cell_type": "code",
   "execution_count": 4,
   "metadata": {
    "tags": []
   },
   "outputs": [
    {
     "output_type": "stream",
     "name": "stdout",
     "text": "<class 'pandas.core.frame.DataFrame'>\nRangeIndex: 194673 entries, 0 to 194672\nData columns (total 38 columns):\nSEVERITYCODE      194673 non-null int64\nX                 189339 non-null float64\nY                 189339 non-null float64\nOBJECTID          194673 non-null int64\nINCKEY            194673 non-null int64\nCOLDETKEY         194673 non-null int64\nREPORTNO          194673 non-null object\nSTATUS            194673 non-null object\nADDRTYPE          192747 non-null object\nINTKEY            65070 non-null float64\nLOCATION          191996 non-null object\nEXCEPTRSNCODE     84811 non-null object\nEXCEPTRSNDESC     5638 non-null object\nSEVERITYCODE.1    194673 non-null int64\nSEVERITYDESC      194673 non-null object\nCOLLISIONTYPE     189769 non-null object\nPERSONCOUNT       194673 non-null int64\nPEDCOUNT          194673 non-null int64\nPEDCYLCOUNT       194673 non-null int64\nVEHCOUNT          194673 non-null int64\nINCDATE           194673 non-null object\nINCDTTM           194673 non-null object\nJUNCTIONTYPE      188344 non-null object\nSDOT_COLCODE      194673 non-null int64\nSDOT_COLDESC      194673 non-null object\nINATTENTIONIND    29805 non-null object\nUNDERINFL         189789 non-null object\nWEATHER           189592 non-null object\nROADCOND          189661 non-null object\nLIGHTCOND         189503 non-null object\nPEDROWNOTGRNT     4667 non-null object\nSDOTCOLNUM        114936 non-null float64\nSPEEDING          9333 non-null object\nST_COLCODE        194655 non-null object\nST_COLDESC        189769 non-null object\nSEGLANEKEY        194673 non-null int64\nCROSSWALKKEY      194673 non-null int64\nHITPARKEDCAR      194673 non-null object\ndtypes: float64(4), int64(12), object(22)\nmemory usage: 40.1+ MB\n"
    }
   ],
   "source": [
    "df = pd.read_csv('D:/personale/MACHINELEARNING/IBM/capstone/Data-Collisions.csv')\n",
    "df.info()\n",
    "# df['SEVERITYCODE'].unique()"
   ]
  },
  {
   "cell_type": "code",
   "execution_count": 12,
   "metadata": {},
   "outputs": [
    {
     "output_type": "execute_result",
     "data": {
      "text/plain": "<matplotlib.axes._subplots.AxesSubplot at 0x199d9eb0>"
     },
     "metadata": {},
     "execution_count": 12
    },
    {
     "output_type": "display_data",
     "data": {
      "text/plain": "<Figure size 432x288 with 1 Axes>",
      "image/svg+xml": "<?xml version=\"1.0\" encoding=\"utf-8\" standalone=\"no\"?>\r\n<!DOCTYPE svg PUBLIC \"-//W3C//DTD SVG 1.1//EN\"\r\n  \"http://www.w3.org/Graphics/SVG/1.1/DTD/svg11.dtd\">\r\n<!-- Created with matplotlib (https://matplotlib.org/) -->\r\n<svg height=\"262.19625pt\" version=\"1.1\" viewBox=\"0 0 401.690625 262.19625\" width=\"401.690625pt\" xmlns=\"http://www.w3.org/2000/svg\" xmlns:xlink=\"http://www.w3.org/1999/xlink\">\r\n <defs>\r\n  <style type=\"text/css\">\r\n*{stroke-linecap:butt;stroke-linejoin:round;}\r\n  </style>\r\n </defs>\r\n <g id=\"figure_1\">\r\n  <g id=\"patch_1\">\r\n   <path d=\"M 0 262.19625 \r\nL 401.690625 262.19625 \r\nL 401.690625 0 \r\nL 0 0 \r\nz\r\n\" style=\"fill:none;\"/>\r\n  </g>\r\n  <g id=\"axes_1\">\r\n   <g id=\"patch_2\">\r\n    <path d=\"M 59.690625 224.64 \r\nL 394.490625 224.64 \r\nL 394.490625 7.2 \r\nL 59.690625 7.2 \r\nz\r\n\" style=\"fill:#ffffff;\"/>\r\n   </g>\r\n   <g id=\"patch_3\">\r\n    <path clip-path=\"url(#p9eb8d72f9a)\" d=\"M 64.473482 224.64 \r\nL 83.604911 224.64 \r\nL 83.604911 57.645658 \r\nL 64.473482 57.645658 \r\nz\r\n\" style=\"fill:#3274a1;\"/>\r\n   </g>\r\n   <g id=\"patch_4\">\r\n    <path clip-path=\"url(#p9eb8d72f9a)\" d=\"M 112.302054 224.64 \r\nL 131.433482 224.64 \r\nL 131.433482 44.369767 \r\nL 112.302054 44.369767 \r\nz\r\n\" style=\"fill:#3274a1;\"/>\r\n   </g>\r\n   <g id=\"patch_5\">\r\n    <path clip-path=\"url(#p9eb8d72f9a)\" d=\"M 160.130625 224.64 \r\nL 179.262054 224.64 \r\nL 179.262054 42.587524 \r\nL 160.130625 42.587524 \r\nz\r\n\" style=\"fill:#3274a1;\"/>\r\n   </g>\r\n   <g id=\"patch_6\">\r\n    <path clip-path=\"url(#p9eb8d72f9a)\" d=\"M 207.959196 224.64 \r\nL 227.090625 224.64 \r\nL 227.090625 39.995997 \r\nL 207.959196 39.995997 \r\nz\r\n\" style=\"fill:#3274a1;\"/>\r\n   </g>\r\n   <g id=\"patch_7\">\r\n    <path clip-path=\"url(#p9eb8d72f9a)\" d=\"M 255.787768 224.64 \r\nL 274.919196 224.64 \r\nL 274.919196 17.554286 \r\nL 255.787768 17.554286 \r\nz\r\n\" style=\"fill:#3274a1;\"/>\r\n   </g>\r\n   <g id=\"patch_8\">\r\n    <path clip-path=\"url(#p9eb8d72f9a)\" d=\"M 303.616339 224.64 \r\nL 322.747768 224.64 \r\nL 322.747768 48.761723 \r\nL 303.616339 48.761723 \r\nz\r\n\" style=\"fill:#3274a1;\"/>\r\n   </g>\r\n   <g id=\"patch_9\">\r\n    <path clip-path=\"url(#p9eb8d72f9a)\" d=\"M 351.444911 224.64 \r\nL 370.576339 224.64 \r\nL 370.576339 80.496558 \r\nL 351.444911 80.496558 \r\nz\r\n\" style=\"fill:#3274a1;\"/>\r\n   </g>\r\n   <g id=\"patch_10\">\r\n    <path clip-path=\"url(#p9eb8d72f9a)\" d=\"M 83.604911 224.64 \r\nL 102.736339 224.64 \r\nL 102.736339 152.140905 \r\nL 83.604911 152.140905 \r\nz\r\n\" style=\"fill:#e1812c;\"/>\r\n   </g>\r\n   <g id=\"patch_11\">\r\n    <path clip-path=\"url(#p9eb8d72f9a)\" d=\"M 131.433482 224.64 \r\nL 150.564911 224.64 \r\nL 150.564911 145.248353 \r\nL 131.433482 145.248353 \r\nz\r\n\" style=\"fill:#e1812c;\"/>\r\n   </g>\r\n   <g id=\"patch_12\">\r\n    <path clip-path=\"url(#p9eb8d72f9a)\" d=\"M 179.262054 224.64 \r\nL 198.393482 224.64 \r\nL 198.393482 145.011933 \r\nL 179.262054 145.011933 \r\nz\r\n\" style=\"fill:#e1812c;\"/>\r\n   </g>\r\n   <g id=\"patch_13\">\r\n    <path clip-path=\"url(#p9eb8d72f9a)\" d=\"M 227.090625 224.64 \r\nL 246.222054 224.64 \r\nL 246.222054 142.63864 \r\nL 227.090625 142.63864 \r\nz\r\n\" style=\"fill:#e1812c;\"/>\r\n   </g>\r\n   <g id=\"patch_14\">\r\n    <path clip-path=\"url(#p9eb8d72f9a)\" d=\"M 274.919196 224.64 \r\nL 294.050625 224.64 \r\nL 294.050625 137.719286 \r\nL 274.919196 137.719286 \r\nz\r\n\" style=\"fill:#e1812c;\"/>\r\n   </g>\r\n   <g id=\"patch_15\">\r\n    <path clip-path=\"url(#p9eb8d72f9a)\" d=\"M 322.747768 224.64 \r\nL 341.879196 224.64 \r\nL 341.879196 151.468017 \r\nL 322.747768 151.468017 \r\nz\r\n\" style=\"fill:#e1812c;\"/>\r\n   </g>\r\n   <g id=\"patch_16\">\r\n    <path clip-path=\"url(#p9eb8d72f9a)\" d=\"M 370.576339 224.64 \r\nL 389.707768 224.64 \r\nL 389.707768 169.144957 \r\nL 370.576339 169.144957 \r\nz\r\n\" style=\"fill:#e1812c;\"/>\r\n   </g>\r\n   <g id=\"matplotlib.axis_1\">\r\n    <g id=\"xtick_1\">\r\n     <g id=\"line2d_1\">\r\n      <defs>\r\n       <path d=\"M 0 0 \r\nL 0 3.5 \r\n\" id=\"m7694decba3\" style=\"stroke:#000000;stroke-width:0.8;\"/>\r\n      </defs>\r\n      <g>\r\n       <use style=\"stroke:#000000;stroke-width:0.8;\" x=\"83.604911\" xlink:href=\"#m7694decba3\" y=\"224.64\"/>\r\n      </g>\r\n     </g>\r\n     <g id=\"text_1\">\r\n      <!-- 0 -->\r\n      <defs>\r\n       <path d=\"M 31.78125 66.40625 \r\nQ 24.171875 66.40625 20.328125 58.90625 \r\nQ 16.5 51.421875 16.5 36.375 \r\nQ 16.5 21.390625 20.328125 13.890625 \r\nQ 24.171875 6.390625 31.78125 6.390625 \r\nQ 39.453125 6.390625 43.28125 13.890625 \r\nQ 47.125 21.390625 47.125 36.375 \r\nQ 47.125 51.421875 43.28125 58.90625 \r\nQ 39.453125 66.40625 31.78125 66.40625 \r\nz\r\nM 31.78125 74.21875 \r\nQ 44.046875 74.21875 50.515625 64.515625 \r\nQ 56.984375 54.828125 56.984375 36.375 \r\nQ 56.984375 17.96875 50.515625 8.265625 \r\nQ 44.046875 -1.421875 31.78125 -1.421875 \r\nQ 19.53125 -1.421875 13.0625 8.265625 \r\nQ 6.59375 17.96875 6.59375 36.375 \r\nQ 6.59375 54.828125 13.0625 64.515625 \r\nQ 19.53125 74.21875 31.78125 74.21875 \r\nz\r\n\" id=\"DejaVuSans-48\"/>\r\n      </defs>\r\n      <g transform=\"translate(80.423661 239.238438)scale(0.1 -0.1)\">\r\n       <use xlink:href=\"#DejaVuSans-48\"/>\r\n      </g>\r\n     </g>\r\n    </g>\r\n    <g id=\"xtick_2\">\r\n     <g id=\"line2d_2\">\r\n      <g>\r\n       <use style=\"stroke:#000000;stroke-width:0.8;\" x=\"131.433482\" xlink:href=\"#m7694decba3\" y=\"224.64\"/>\r\n      </g>\r\n     </g>\r\n     <g id=\"text_2\">\r\n      <!-- 1 -->\r\n      <defs>\r\n       <path d=\"M 12.40625 8.296875 \r\nL 28.515625 8.296875 \r\nL 28.515625 63.921875 \r\nL 10.984375 60.40625 \r\nL 10.984375 69.390625 \r\nL 28.421875 72.90625 \r\nL 38.28125 72.90625 \r\nL 38.28125 8.296875 \r\nL 54.390625 8.296875 \r\nL 54.390625 0 \r\nL 12.40625 0 \r\nz\r\n\" id=\"DejaVuSans-49\"/>\r\n      </defs>\r\n      <g transform=\"translate(128.252232 239.238438)scale(0.1 -0.1)\">\r\n       <use xlink:href=\"#DejaVuSans-49\"/>\r\n      </g>\r\n     </g>\r\n    </g>\r\n    <g id=\"xtick_3\">\r\n     <g id=\"line2d_3\">\r\n      <g>\r\n       <use style=\"stroke:#000000;stroke-width:0.8;\" x=\"179.262054\" xlink:href=\"#m7694decba3\" y=\"224.64\"/>\r\n      </g>\r\n     </g>\r\n     <g id=\"text_3\">\r\n      <!-- 2 -->\r\n      <defs>\r\n       <path d=\"M 19.1875 8.296875 \r\nL 53.609375 8.296875 \r\nL 53.609375 0 \r\nL 7.328125 0 \r\nL 7.328125 8.296875 \r\nQ 12.9375 14.109375 22.625 23.890625 \r\nQ 32.328125 33.6875 34.8125 36.53125 \r\nQ 39.546875 41.84375 41.421875 45.53125 \r\nQ 43.3125 49.21875 43.3125 52.78125 \r\nQ 43.3125 58.59375 39.234375 62.25 \r\nQ 35.15625 65.921875 28.609375 65.921875 \r\nQ 23.96875 65.921875 18.8125 64.3125 \r\nQ 13.671875 62.703125 7.8125 59.421875 \r\nL 7.8125 69.390625 \r\nQ 13.765625 71.78125 18.9375 73 \r\nQ 24.125 74.21875 28.421875 74.21875 \r\nQ 39.75 74.21875 46.484375 68.546875 \r\nQ 53.21875 62.890625 53.21875 53.421875 \r\nQ 53.21875 48.921875 51.53125 44.890625 \r\nQ 49.859375 40.875 45.40625 35.40625 \r\nQ 44.1875 33.984375 37.640625 27.21875 \r\nQ 31.109375 20.453125 19.1875 8.296875 \r\nz\r\n\" id=\"DejaVuSans-50\"/>\r\n      </defs>\r\n      <g transform=\"translate(176.080804 239.238438)scale(0.1 -0.1)\">\r\n       <use xlink:href=\"#DejaVuSans-50\"/>\r\n      </g>\r\n     </g>\r\n    </g>\r\n    <g id=\"xtick_4\">\r\n     <g id=\"line2d_4\">\r\n      <g>\r\n       <use style=\"stroke:#000000;stroke-width:0.8;\" x=\"227.090625\" xlink:href=\"#m7694decba3\" y=\"224.64\"/>\r\n      </g>\r\n     </g>\r\n     <g id=\"text_4\">\r\n      <!-- 3 -->\r\n      <defs>\r\n       <path d=\"M 40.578125 39.3125 \r\nQ 47.65625 37.796875 51.625 33 \r\nQ 55.609375 28.21875 55.609375 21.1875 \r\nQ 55.609375 10.40625 48.1875 4.484375 \r\nQ 40.765625 -1.421875 27.09375 -1.421875 \r\nQ 22.515625 -1.421875 17.65625 -0.515625 \r\nQ 12.796875 0.390625 7.625 2.203125 \r\nL 7.625 11.71875 \r\nQ 11.71875 9.328125 16.59375 8.109375 \r\nQ 21.484375 6.890625 26.8125 6.890625 \r\nQ 36.078125 6.890625 40.9375 10.546875 \r\nQ 45.796875 14.203125 45.796875 21.1875 \r\nQ 45.796875 27.640625 41.28125 31.265625 \r\nQ 36.765625 34.90625 28.71875 34.90625 \r\nL 20.21875 34.90625 \r\nL 20.21875 43.015625 \r\nL 29.109375 43.015625 \r\nQ 36.375 43.015625 40.234375 45.921875 \r\nQ 44.09375 48.828125 44.09375 54.296875 \r\nQ 44.09375 59.90625 40.109375 62.90625 \r\nQ 36.140625 65.921875 28.71875 65.921875 \r\nQ 24.65625 65.921875 20.015625 65.03125 \r\nQ 15.375 64.15625 9.8125 62.3125 \r\nL 9.8125 71.09375 \r\nQ 15.4375 72.65625 20.34375 73.4375 \r\nQ 25.25 74.21875 29.59375 74.21875 \r\nQ 40.828125 74.21875 47.359375 69.109375 \r\nQ 53.90625 64.015625 53.90625 55.328125 \r\nQ 53.90625 49.265625 50.4375 45.09375 \r\nQ 46.96875 40.921875 40.578125 39.3125 \r\nz\r\n\" id=\"DejaVuSans-51\"/>\r\n      </defs>\r\n      <g transform=\"translate(223.909375 239.238438)scale(0.1 -0.1)\">\r\n       <use xlink:href=\"#DejaVuSans-51\"/>\r\n      </g>\r\n     </g>\r\n    </g>\r\n    <g id=\"xtick_5\">\r\n     <g id=\"line2d_5\">\r\n      <g>\r\n       <use style=\"stroke:#000000;stroke-width:0.8;\" x=\"274.919196\" xlink:href=\"#m7694decba3\" y=\"224.64\"/>\r\n      </g>\r\n     </g>\r\n     <g id=\"text_5\">\r\n      <!-- 4 -->\r\n      <defs>\r\n       <path d=\"M 37.796875 64.3125 \r\nL 12.890625 25.390625 \r\nL 37.796875 25.390625 \r\nz\r\nM 35.203125 72.90625 \r\nL 47.609375 72.90625 \r\nL 47.609375 25.390625 \r\nL 58.015625 25.390625 \r\nL 58.015625 17.1875 \r\nL 47.609375 17.1875 \r\nL 47.609375 0 \r\nL 37.796875 0 \r\nL 37.796875 17.1875 \r\nL 4.890625 17.1875 \r\nL 4.890625 26.703125 \r\nz\r\n\" id=\"DejaVuSans-52\"/>\r\n      </defs>\r\n      <g transform=\"translate(271.737946 239.238438)scale(0.1 -0.1)\">\r\n       <use xlink:href=\"#DejaVuSans-52\"/>\r\n      </g>\r\n     </g>\r\n    </g>\r\n    <g id=\"xtick_6\">\r\n     <g id=\"line2d_6\">\r\n      <g>\r\n       <use style=\"stroke:#000000;stroke-width:0.8;\" x=\"322.747768\" xlink:href=\"#m7694decba3\" y=\"224.64\"/>\r\n      </g>\r\n     </g>\r\n     <g id=\"text_6\">\r\n      <!-- 5 -->\r\n      <defs>\r\n       <path d=\"M 10.796875 72.90625 \r\nL 49.515625 72.90625 \r\nL 49.515625 64.59375 \r\nL 19.828125 64.59375 \r\nL 19.828125 46.734375 \r\nQ 21.96875 47.46875 24.109375 47.828125 \r\nQ 26.265625 48.1875 28.421875 48.1875 \r\nQ 40.625 48.1875 47.75 41.5 \r\nQ 54.890625 34.8125 54.890625 23.390625 \r\nQ 54.890625 11.625 47.5625 5.09375 \r\nQ 40.234375 -1.421875 26.90625 -1.421875 \r\nQ 22.3125 -1.421875 17.546875 -0.640625 \r\nQ 12.796875 0.140625 7.71875 1.703125 \r\nL 7.71875 11.625 \r\nQ 12.109375 9.234375 16.796875 8.0625 \r\nQ 21.484375 6.890625 26.703125 6.890625 \r\nQ 35.15625 6.890625 40.078125 11.328125 \r\nQ 45.015625 15.765625 45.015625 23.390625 \r\nQ 45.015625 31 40.078125 35.4375 \r\nQ 35.15625 39.890625 26.703125 39.890625 \r\nQ 22.75 39.890625 18.8125 39.015625 \r\nQ 14.890625 38.140625 10.796875 36.28125 \r\nz\r\n\" id=\"DejaVuSans-53\"/>\r\n      </defs>\r\n      <g transform=\"translate(319.566518 239.238438)scale(0.1 -0.1)\">\r\n       <use xlink:href=\"#DejaVuSans-53\"/>\r\n      </g>\r\n     </g>\r\n    </g>\r\n    <g id=\"xtick_7\">\r\n     <g id=\"line2d_7\">\r\n      <g>\r\n       <use style=\"stroke:#000000;stroke-width:0.8;\" x=\"370.576339\" xlink:href=\"#m7694decba3\" y=\"224.64\"/>\r\n      </g>\r\n     </g>\r\n     <g id=\"text_7\">\r\n      <!-- 6 -->\r\n      <defs>\r\n       <path d=\"M 33.015625 40.375 \r\nQ 26.375 40.375 22.484375 35.828125 \r\nQ 18.609375 31.296875 18.609375 23.390625 \r\nQ 18.609375 15.53125 22.484375 10.953125 \r\nQ 26.375 6.390625 33.015625 6.390625 \r\nQ 39.65625 6.390625 43.53125 10.953125 \r\nQ 47.40625 15.53125 47.40625 23.390625 \r\nQ 47.40625 31.296875 43.53125 35.828125 \r\nQ 39.65625 40.375 33.015625 40.375 \r\nz\r\nM 52.59375 71.296875 \r\nL 52.59375 62.3125 \r\nQ 48.875 64.0625 45.09375 64.984375 \r\nQ 41.3125 65.921875 37.59375 65.921875 \r\nQ 27.828125 65.921875 22.671875 59.328125 \r\nQ 17.53125 52.734375 16.796875 39.40625 \r\nQ 19.671875 43.65625 24.015625 45.921875 \r\nQ 28.375 48.1875 33.59375 48.1875 \r\nQ 44.578125 48.1875 50.953125 41.515625 \r\nQ 57.328125 34.859375 57.328125 23.390625 \r\nQ 57.328125 12.15625 50.6875 5.359375 \r\nQ 44.046875 -1.421875 33.015625 -1.421875 \r\nQ 20.359375 -1.421875 13.671875 8.265625 \r\nQ 6.984375 17.96875 6.984375 36.375 \r\nQ 6.984375 53.65625 15.1875 63.9375 \r\nQ 23.390625 74.21875 37.203125 74.21875 \r\nQ 40.921875 74.21875 44.703125 73.484375 \r\nQ 48.484375 72.75 52.59375 71.296875 \r\nz\r\n\" id=\"DejaVuSans-54\"/>\r\n      </defs>\r\n      <g transform=\"translate(367.395089 239.238438)scale(0.1 -0.1)\">\r\n       <use xlink:href=\"#DejaVuSans-54\"/>\r\n      </g>\r\n     </g>\r\n    </g>\r\n    <g id=\"text_8\">\r\n     <!-- WEEKDAY -->\r\n     <defs>\r\n      <path d=\"M 3.328125 72.90625 \r\nL 13.28125 72.90625 \r\nL 28.609375 11.28125 \r\nL 43.890625 72.90625 \r\nL 54.984375 72.90625 \r\nL 70.3125 11.28125 \r\nL 85.59375 72.90625 \r\nL 95.609375 72.90625 \r\nL 77.296875 0 \r\nL 64.890625 0 \r\nL 49.515625 63.28125 \r\nL 33.984375 0 \r\nL 21.578125 0 \r\nz\r\n\" id=\"DejaVuSans-87\"/>\r\n      <path d=\"M 9.8125 72.90625 \r\nL 55.90625 72.90625 \r\nL 55.90625 64.59375 \r\nL 19.671875 64.59375 \r\nL 19.671875 43.015625 \r\nL 54.390625 43.015625 \r\nL 54.390625 34.71875 \r\nL 19.671875 34.71875 \r\nL 19.671875 8.296875 \r\nL 56.78125 8.296875 \r\nL 56.78125 0 \r\nL 9.8125 0 \r\nz\r\n\" id=\"DejaVuSans-69\"/>\r\n      <path d=\"M 9.8125 72.90625 \r\nL 19.671875 72.90625 \r\nL 19.671875 42.09375 \r\nL 52.390625 72.90625 \r\nL 65.09375 72.90625 \r\nL 28.90625 38.921875 \r\nL 67.671875 0 \r\nL 54.6875 0 \r\nL 19.671875 35.109375 \r\nL 19.671875 0 \r\nL 9.8125 0 \r\nz\r\n\" id=\"DejaVuSans-75\"/>\r\n      <path d=\"M 19.671875 64.796875 \r\nL 19.671875 8.109375 \r\nL 31.59375 8.109375 \r\nQ 46.6875 8.109375 53.6875 14.9375 \r\nQ 60.6875 21.78125 60.6875 36.53125 \r\nQ 60.6875 51.171875 53.6875 57.984375 \r\nQ 46.6875 64.796875 31.59375 64.796875 \r\nz\r\nM 9.8125 72.90625 \r\nL 30.078125 72.90625 \r\nQ 51.265625 72.90625 61.171875 64.09375 \r\nQ 71.09375 55.28125 71.09375 36.53125 \r\nQ 71.09375 17.671875 61.125 8.828125 \r\nQ 51.171875 0 30.078125 0 \r\nL 9.8125 0 \r\nz\r\n\" id=\"DejaVuSans-68\"/>\r\n      <path d=\"M 34.1875 63.1875 \r\nL 20.796875 26.90625 \r\nL 47.609375 26.90625 \r\nz\r\nM 28.609375 72.90625 \r\nL 39.796875 72.90625 \r\nL 67.578125 0 \r\nL 57.328125 0 \r\nL 50.6875 18.703125 \r\nL 17.828125 18.703125 \r\nL 11.1875 0 \r\nL 0.78125 0 \r\nz\r\n\" id=\"DejaVuSans-65\"/>\r\n      <path d=\"M -0.203125 72.90625 \r\nL 10.40625 72.90625 \r\nL 30.609375 42.921875 \r\nL 50.6875 72.90625 \r\nL 61.28125 72.90625 \r\nL 35.5 34.71875 \r\nL 35.5 0 \r\nL 25.59375 0 \r\nL 25.59375 34.71875 \r\nz\r\n\" id=\"DejaVuSans-89\"/>\r\n     </defs>\r\n     <g transform=\"translate(202.23125 252.916563)scale(0.1 -0.1)\">\r\n      <use xlink:href=\"#DejaVuSans-87\"/>\r\n      <use x=\"98.876953\" xlink:href=\"#DejaVuSans-69\"/>\r\n      <use x=\"162.060547\" xlink:href=\"#DejaVuSans-69\"/>\r\n      <use x=\"225.244141\" xlink:href=\"#DejaVuSans-75\"/>\r\n      <use x=\"290.820312\" xlink:href=\"#DejaVuSans-68\"/>\r\n      <use x=\"367.806641\" xlink:href=\"#DejaVuSans-65\"/>\r\n      <use x=\"436.105469\" xlink:href=\"#DejaVuSans-89\"/>\r\n     </g>\r\n    </g>\r\n   </g>\r\n   <g id=\"matplotlib.axis_2\">\r\n    <g id=\"ytick_1\">\r\n     <g id=\"line2d_8\">\r\n      <defs>\r\n       <path d=\"M 0 0 \r\nL -3.5 0 \r\n\" id=\"me0d8f13fb8\" style=\"stroke:#000000;stroke-width:0.8;\"/>\r\n      </defs>\r\n      <g>\r\n       <use style=\"stroke:#000000;stroke-width:0.8;\" x=\"59.690625\" xlink:href=\"#me0d8f13fb8\" y=\"224.64\"/>\r\n      </g>\r\n     </g>\r\n     <g id=\"text_9\">\r\n      <!-- 0 -->\r\n      <g transform=\"translate(46.328125 228.439219)scale(0.1 -0.1)\">\r\n       <use xlink:href=\"#DejaVuSans-48\"/>\r\n      </g>\r\n     </g>\r\n    </g>\r\n    <g id=\"ytick_2\">\r\n     <g id=\"line2d_9\">\r\n      <g>\r\n       <use style=\"stroke:#000000;stroke-width:0.8;\" x=\"59.690625\" xlink:href=\"#me0d8f13fb8\" y=\"179.17462\"/>\r\n      </g>\r\n     </g>\r\n     <g id=\"text_10\">\r\n      <!-- 5000 -->\r\n      <g transform=\"translate(27.240625 182.973838)scale(0.1 -0.1)\">\r\n       <use xlink:href=\"#DejaVuSans-53\"/>\r\n       <use x=\"63.623047\" xlink:href=\"#DejaVuSans-48\"/>\r\n       <use x=\"127.246094\" xlink:href=\"#DejaVuSans-48\"/>\r\n       <use x=\"190.869141\" xlink:href=\"#DejaVuSans-48\"/>\r\n      </g>\r\n     </g>\r\n    </g>\r\n    <g id=\"ytick_3\">\r\n     <g id=\"line2d_10\">\r\n      <g>\r\n       <use style=\"stroke:#000000;stroke-width:0.8;\" x=\"59.690625\" xlink:href=\"#me0d8f13fb8\" y=\"133.709239\"/>\r\n      </g>\r\n     </g>\r\n     <g id=\"text_11\">\r\n      <!-- 10000 -->\r\n      <g transform=\"translate(20.878125 137.508458)scale(0.1 -0.1)\">\r\n       <use xlink:href=\"#DejaVuSans-49\"/>\r\n       <use x=\"63.623047\" xlink:href=\"#DejaVuSans-48\"/>\r\n       <use x=\"127.246094\" xlink:href=\"#DejaVuSans-48\"/>\r\n       <use x=\"190.869141\" xlink:href=\"#DejaVuSans-48\"/>\r\n       <use x=\"254.492188\" xlink:href=\"#DejaVuSans-48\"/>\r\n      </g>\r\n     </g>\r\n    </g>\r\n    <g id=\"ytick_4\">\r\n     <g id=\"line2d_11\">\r\n      <g>\r\n       <use style=\"stroke:#000000;stroke-width:0.8;\" x=\"59.690625\" xlink:href=\"#me0d8f13fb8\" y=\"88.243859\"/>\r\n      </g>\r\n     </g>\r\n     <g id=\"text_12\">\r\n      <!-- 15000 -->\r\n      <g transform=\"translate(20.878125 92.043078)scale(0.1 -0.1)\">\r\n       <use xlink:href=\"#DejaVuSans-49\"/>\r\n       <use x=\"63.623047\" xlink:href=\"#DejaVuSans-53\"/>\r\n       <use x=\"127.246094\" xlink:href=\"#DejaVuSans-48\"/>\r\n       <use x=\"190.869141\" xlink:href=\"#DejaVuSans-48\"/>\r\n       <use x=\"254.492188\" xlink:href=\"#DejaVuSans-48\"/>\r\n      </g>\r\n     </g>\r\n    </g>\r\n    <g id=\"ytick_5\">\r\n     <g id=\"line2d_12\">\r\n      <g>\r\n       <use style=\"stroke:#000000;stroke-width:0.8;\" x=\"59.690625\" xlink:href=\"#me0d8f13fb8\" y=\"42.778479\"/>\r\n      </g>\r\n     </g>\r\n     <g id=\"text_13\">\r\n      <!-- 20000 -->\r\n      <g transform=\"translate(20.878125 46.577697)scale(0.1 -0.1)\">\r\n       <use xlink:href=\"#DejaVuSans-50\"/>\r\n       <use x=\"63.623047\" xlink:href=\"#DejaVuSans-48\"/>\r\n       <use x=\"127.246094\" xlink:href=\"#DejaVuSans-48\"/>\r\n       <use x=\"190.869141\" xlink:href=\"#DejaVuSans-48\"/>\r\n       <use x=\"254.492188\" xlink:href=\"#DejaVuSans-48\"/>\r\n      </g>\r\n     </g>\r\n    </g>\r\n    <g id=\"text_14\">\r\n     <!-- count -->\r\n     <defs>\r\n      <path d=\"M 48.78125 52.59375 \r\nL 48.78125 44.1875 \r\nQ 44.96875 46.296875 41.140625 47.34375 \r\nQ 37.3125 48.390625 33.40625 48.390625 \r\nQ 24.65625 48.390625 19.8125 42.84375 \r\nQ 14.984375 37.3125 14.984375 27.296875 \r\nQ 14.984375 17.28125 19.8125 11.734375 \r\nQ 24.65625 6.203125 33.40625 6.203125 \r\nQ 37.3125 6.203125 41.140625 7.25 \r\nQ 44.96875 8.296875 48.78125 10.40625 \r\nL 48.78125 2.09375 \r\nQ 45.015625 0.34375 40.984375 -0.53125 \r\nQ 36.96875 -1.421875 32.421875 -1.421875 \r\nQ 20.0625 -1.421875 12.78125 6.34375 \r\nQ 5.515625 14.109375 5.515625 27.296875 \r\nQ 5.515625 40.671875 12.859375 48.328125 \r\nQ 20.21875 56 33.015625 56 \r\nQ 37.15625 56 41.109375 55.140625 \r\nQ 45.0625 54.296875 48.78125 52.59375 \r\nz\r\n\" id=\"DejaVuSans-99\"/>\r\n      <path d=\"M 30.609375 48.390625 \r\nQ 23.390625 48.390625 19.1875 42.75 \r\nQ 14.984375 37.109375 14.984375 27.296875 \r\nQ 14.984375 17.484375 19.15625 11.84375 \r\nQ 23.34375 6.203125 30.609375 6.203125 \r\nQ 37.796875 6.203125 41.984375 11.859375 \r\nQ 46.1875 17.53125 46.1875 27.296875 \r\nQ 46.1875 37.015625 41.984375 42.703125 \r\nQ 37.796875 48.390625 30.609375 48.390625 \r\nz\r\nM 30.609375 56 \r\nQ 42.328125 56 49.015625 48.375 \r\nQ 55.71875 40.765625 55.71875 27.296875 \r\nQ 55.71875 13.875 49.015625 6.21875 \r\nQ 42.328125 -1.421875 30.609375 -1.421875 \r\nQ 18.84375 -1.421875 12.171875 6.21875 \r\nQ 5.515625 13.875 5.515625 27.296875 \r\nQ 5.515625 40.765625 12.171875 48.375 \r\nQ 18.84375 56 30.609375 56 \r\nz\r\n\" id=\"DejaVuSans-111\"/>\r\n      <path d=\"M 8.5 21.578125 \r\nL 8.5 54.6875 \r\nL 17.484375 54.6875 \r\nL 17.484375 21.921875 \r\nQ 17.484375 14.15625 20.5 10.265625 \r\nQ 23.53125 6.390625 29.59375 6.390625 \r\nQ 36.859375 6.390625 41.078125 11.03125 \r\nQ 45.3125 15.671875 45.3125 23.6875 \r\nL 45.3125 54.6875 \r\nL 54.296875 54.6875 \r\nL 54.296875 0 \r\nL 45.3125 0 \r\nL 45.3125 8.40625 \r\nQ 42.046875 3.421875 37.71875 1 \r\nQ 33.40625 -1.421875 27.6875 -1.421875 \r\nQ 18.265625 -1.421875 13.375 4.4375 \r\nQ 8.5 10.296875 8.5 21.578125 \r\nz\r\nM 31.109375 56 \r\nz\r\n\" id=\"DejaVuSans-117\"/>\r\n      <path d=\"M 54.890625 33.015625 \r\nL 54.890625 0 \r\nL 45.90625 0 \r\nL 45.90625 32.71875 \r\nQ 45.90625 40.484375 42.875 44.328125 \r\nQ 39.84375 48.1875 33.796875 48.1875 \r\nQ 26.515625 48.1875 22.3125 43.546875 \r\nQ 18.109375 38.921875 18.109375 30.90625 \r\nL 18.109375 0 \r\nL 9.078125 0 \r\nL 9.078125 54.6875 \r\nL 18.109375 54.6875 \r\nL 18.109375 46.1875 \r\nQ 21.34375 51.125 25.703125 53.5625 \r\nQ 30.078125 56 35.796875 56 \r\nQ 45.21875 56 50.046875 50.171875 \r\nQ 54.890625 44.34375 54.890625 33.015625 \r\nz\r\n\" id=\"DejaVuSans-110\"/>\r\n      <path d=\"M 18.3125 70.21875 \r\nL 18.3125 54.6875 \r\nL 36.8125 54.6875 \r\nL 36.8125 47.703125 \r\nL 18.3125 47.703125 \r\nL 18.3125 18.015625 \r\nQ 18.3125 11.328125 20.140625 9.421875 \r\nQ 21.96875 7.515625 27.59375 7.515625 \r\nL 36.8125 7.515625 \r\nL 36.8125 0 \r\nL 27.59375 0 \r\nQ 17.1875 0 13.234375 3.875 \r\nQ 9.28125 7.765625 9.28125 18.015625 \r\nL 9.28125 47.703125 \r\nL 2.6875 47.703125 \r\nL 2.6875 54.6875 \r\nL 9.28125 54.6875 \r\nL 9.28125 70.21875 \r\nz\r\n\" id=\"DejaVuSans-116\"/>\r\n     </defs>\r\n     <g transform=\"translate(14.798438 130.02625)rotate(-90)scale(0.1 -0.1)\">\r\n      <use xlink:href=\"#DejaVuSans-99\"/>\r\n      <use x=\"54.980469\" xlink:href=\"#DejaVuSans-111\"/>\r\n      <use x=\"116.162109\" xlink:href=\"#DejaVuSans-117\"/>\r\n      <use x=\"179.541016\" xlink:href=\"#DejaVuSans-110\"/>\r\n      <use x=\"242.919922\" xlink:href=\"#DejaVuSans-116\"/>\r\n     </g>\r\n    </g>\r\n   </g>\r\n   <g id=\"patch_17\">\r\n    <path d=\"M 59.690625 224.64 \r\nL 59.690625 7.2 \r\n\" style=\"fill:none;stroke:#000000;stroke-linecap:square;stroke-linejoin:miter;stroke-width:0.8;\"/>\r\n   </g>\r\n   <g id=\"patch_18\">\r\n    <path d=\"M 394.490625 224.64 \r\nL 394.490625 7.2 \r\n\" style=\"fill:none;stroke:#000000;stroke-linecap:square;stroke-linejoin:miter;stroke-width:0.8;\"/>\r\n   </g>\r\n   <g id=\"patch_19\">\r\n    <path d=\"M 59.690625 224.64 \r\nL 394.490625 224.64 \r\n\" style=\"fill:none;stroke:#000000;stroke-linecap:square;stroke-linejoin:miter;stroke-width:0.8;\"/>\r\n   </g>\r\n   <g id=\"patch_20\">\r\n    <path d=\"M 59.690625 7.2 \r\nL 394.490625 7.2 \r\n\" style=\"fill:none;stroke:#000000;stroke-linecap:square;stroke-linejoin:miter;stroke-width:0.8;\"/>\r\n   </g>\r\n   <g id=\"legend_1\">\r\n    <g id=\"patch_21\">\r\n     <path d=\"M 306.684375 59.234375 \r\nL 387.490625 59.234375 \r\nQ 389.490625 59.234375 389.490625 57.234375 \r\nL 389.490625 14.2 \r\nQ 389.490625 12.2 387.490625 12.2 \r\nL 306.684375 12.2 \r\nQ 304.684375 12.2 304.684375 14.2 \r\nL 304.684375 57.234375 \r\nQ 304.684375 59.234375 306.684375 59.234375 \r\nz\r\n\" style=\"fill:#ffffff;opacity:0.8;stroke:#cccccc;stroke-linejoin:miter;\"/>\r\n    </g>\r\n    <g id=\"text_15\">\r\n     <!-- SEVERITYCODE -->\r\n     <defs>\r\n      <path d=\"M 53.515625 70.515625 \r\nL 53.515625 60.890625 \r\nQ 47.90625 63.578125 42.921875 64.890625 \r\nQ 37.9375 66.21875 33.296875 66.21875 \r\nQ 25.25 66.21875 20.875 63.09375 \r\nQ 16.5 59.96875 16.5 54.203125 \r\nQ 16.5 49.359375 19.40625 46.890625 \r\nQ 22.3125 44.4375 30.421875 42.921875 \r\nL 36.375 41.703125 \r\nQ 47.40625 39.59375 52.65625 34.296875 \r\nQ 57.90625 29 57.90625 20.125 \r\nQ 57.90625 9.515625 50.796875 4.046875 \r\nQ 43.703125 -1.421875 29.984375 -1.421875 \r\nQ 24.8125 -1.421875 18.96875 -0.25 \r\nQ 13.140625 0.921875 6.890625 3.21875 \r\nL 6.890625 13.375 \r\nQ 12.890625 10.015625 18.65625 8.296875 \r\nQ 24.421875 6.59375 29.984375 6.59375 \r\nQ 38.421875 6.59375 43.015625 9.90625 \r\nQ 47.609375 13.234375 47.609375 19.390625 \r\nQ 47.609375 24.75 44.3125 27.78125 \r\nQ 41.015625 30.8125 33.5 32.328125 \r\nL 27.484375 33.5 \r\nQ 16.453125 35.6875 11.515625 40.375 \r\nQ 6.59375 45.0625 6.59375 53.421875 \r\nQ 6.59375 63.09375 13.40625 68.65625 \r\nQ 20.21875 74.21875 32.171875 74.21875 \r\nQ 37.3125 74.21875 42.625 73.28125 \r\nQ 47.953125 72.359375 53.515625 70.515625 \r\nz\r\n\" id=\"DejaVuSans-83\"/>\r\n      <path d=\"M 28.609375 0 \r\nL 0.78125 72.90625 \r\nL 11.078125 72.90625 \r\nL 34.1875 11.53125 \r\nL 57.328125 72.90625 \r\nL 67.578125 72.90625 \r\nL 39.796875 0 \r\nz\r\n\" id=\"DejaVuSans-86\"/>\r\n      <path d=\"M 44.390625 34.1875 \r\nQ 47.5625 33.109375 50.5625 29.59375 \r\nQ 53.5625 26.078125 56.59375 19.921875 \r\nL 66.609375 0 \r\nL 56 0 \r\nL 46.6875 18.703125 \r\nQ 43.0625 26.03125 39.671875 28.421875 \r\nQ 36.28125 30.8125 30.421875 30.8125 \r\nL 19.671875 30.8125 \r\nL 19.671875 0 \r\nL 9.8125 0 \r\nL 9.8125 72.90625 \r\nL 32.078125 72.90625 \r\nQ 44.578125 72.90625 50.734375 67.671875 \r\nQ 56.890625 62.453125 56.890625 51.90625 \r\nQ 56.890625 45.015625 53.6875 40.46875 \r\nQ 50.484375 35.9375 44.390625 34.1875 \r\nz\r\nM 19.671875 64.796875 \r\nL 19.671875 38.921875 \r\nL 32.078125 38.921875 \r\nQ 39.203125 38.921875 42.84375 42.21875 \r\nQ 46.484375 45.515625 46.484375 51.90625 \r\nQ 46.484375 58.296875 42.84375 61.546875 \r\nQ 39.203125 64.796875 32.078125 64.796875 \r\nz\r\n\" id=\"DejaVuSans-82\"/>\r\n      <path d=\"M 9.8125 72.90625 \r\nL 19.671875 72.90625 \r\nL 19.671875 0 \r\nL 9.8125 0 \r\nz\r\n\" id=\"DejaVuSans-73\"/>\r\n      <path d=\"M -0.296875 72.90625 \r\nL 61.375 72.90625 \r\nL 61.375 64.59375 \r\nL 35.5 64.59375 \r\nL 35.5 0 \r\nL 25.59375 0 \r\nL 25.59375 64.59375 \r\nL -0.296875 64.59375 \r\nz\r\n\" id=\"DejaVuSans-84\"/>\r\n      <path d=\"M 64.40625 67.28125 \r\nL 64.40625 56.890625 \r\nQ 59.421875 61.53125 53.78125 63.8125 \r\nQ 48.140625 66.109375 41.796875 66.109375 \r\nQ 29.296875 66.109375 22.65625 58.46875 \r\nQ 16.015625 50.828125 16.015625 36.375 \r\nQ 16.015625 21.96875 22.65625 14.328125 \r\nQ 29.296875 6.6875 41.796875 6.6875 \r\nQ 48.140625 6.6875 53.78125 8.984375 \r\nQ 59.421875 11.28125 64.40625 15.921875 \r\nL 64.40625 5.609375 \r\nQ 59.234375 2.09375 53.4375 0.328125 \r\nQ 47.65625 -1.421875 41.21875 -1.421875 \r\nQ 24.65625 -1.421875 15.125 8.703125 \r\nQ 5.609375 18.84375 5.609375 36.375 \r\nQ 5.609375 53.953125 15.125 64.078125 \r\nQ 24.65625 74.21875 41.21875 74.21875 \r\nQ 47.75 74.21875 53.53125 72.484375 \r\nQ 59.328125 70.75 64.40625 67.28125 \r\nz\r\n\" id=\"DejaVuSans-67\"/>\r\n      <path d=\"M 39.40625 66.21875 \r\nQ 28.65625 66.21875 22.328125 58.203125 \r\nQ 16.015625 50.203125 16.015625 36.375 \r\nQ 16.015625 22.609375 22.328125 14.59375 \r\nQ 28.65625 6.59375 39.40625 6.59375 \r\nQ 50.140625 6.59375 56.421875 14.59375 \r\nQ 62.703125 22.609375 62.703125 36.375 \r\nQ 62.703125 50.203125 56.421875 58.203125 \r\nQ 50.140625 66.21875 39.40625 66.21875 \r\nz\r\nM 39.40625 74.21875 \r\nQ 54.734375 74.21875 63.90625 63.9375 \r\nQ 73.09375 53.65625 73.09375 36.375 \r\nQ 73.09375 19.140625 63.90625 8.859375 \r\nQ 54.734375 -1.421875 39.40625 -1.421875 \r\nQ 24.03125 -1.421875 14.8125 8.828125 \r\nQ 5.609375 19.09375 5.609375 36.375 \r\nQ 5.609375 53.65625 14.8125 63.9375 \r\nQ 24.03125 74.21875 39.40625 74.21875 \r\nz\r\n\" id=\"DejaVuSans-79\"/>\r\n     </defs>\r\n     <g transform=\"translate(308.684375 23.798438)scale(0.1 -0.1)\">\r\n      <use xlink:href=\"#DejaVuSans-83\"/>\r\n      <use x=\"63.476562\" xlink:href=\"#DejaVuSans-69\"/>\r\n      <use x=\"126.660156\" xlink:href=\"#DejaVuSans-86\"/>\r\n      <use x=\"195.068359\" xlink:href=\"#DejaVuSans-69\"/>\r\n      <use x=\"258.251953\" xlink:href=\"#DejaVuSans-82\"/>\r\n      <use x=\"327.734375\" xlink:href=\"#DejaVuSans-73\"/>\r\n      <use x=\"357.226562\" xlink:href=\"#DejaVuSans-84\"/>\r\n      <use x=\"418.310547\" xlink:href=\"#DejaVuSans-89\"/>\r\n      <use x=\"479.316406\" xlink:href=\"#DejaVuSans-67\"/>\r\n      <use x=\"549.140625\" xlink:href=\"#DejaVuSans-79\"/>\r\n      <use x=\"627.851562\" xlink:href=\"#DejaVuSans-68\"/>\r\n      <use x=\"704.853516\" xlink:href=\"#DejaVuSans-69\"/>\r\n     </g>\r\n    </g>\r\n    <g id=\"patch_22\">\r\n     <path d=\"M 329.90625 38.476563 \r\nL 349.90625 38.476563 \r\nL 349.90625 31.476563 \r\nL 329.90625 31.476563 \r\nz\r\n\" style=\"fill:#3274a1;\"/>\r\n    </g>\r\n    <g id=\"text_16\">\r\n     <!-- 1 -->\r\n     <g transform=\"translate(357.90625 38.476563)scale(0.1 -0.1)\">\r\n      <use xlink:href=\"#DejaVuSans-49\"/>\r\n     </g>\r\n    </g>\r\n    <g id=\"patch_23\">\r\n     <path d=\"M 329.90625 53.154688 \r\nL 349.90625 53.154688 \r\nL 349.90625 46.154688 \r\nL 329.90625 46.154688 \r\nz\r\n\" style=\"fill:#e1812c;\"/>\r\n    </g>\r\n    <g id=\"text_17\">\r\n     <!-- 2 -->\r\n     <g transform=\"translate(357.90625 53.154688)scale(0.1 -0.1)\">\r\n      <use xlink:href=\"#DejaVuSans-50\"/>\r\n     </g>\r\n    </g>\r\n   </g>\r\n  </g>\r\n </g>\r\n <defs>\r\n  <clipPath id=\"p9eb8d72f9a\">\r\n   <rect height=\"217.44\" width=\"334.8\" x=\"59.690625\" y=\"7.2\"/>\r\n  </clipPath>\r\n </defs>\r\n</svg>\r\n",
      "image/png": "[encoded data removed]"
     },
     "metadata": {
      "needs_background": "light"
     }
    }
   ],
   "source": [
    "# df = pd.read_csv('D:/personale/MACHINELEARNING/IBM/capstone/Data-Collisions.csv')\n",
    "\n",
    "# df = pd.get_dummies(data = df, columns = ['JUNCTIONTYPE'], prefix = 'JT')\n",
    "# df.head(2)\n",
    "# df['SEVERITYCODE.1'].value_counts()\n",
    "# df['LOCATION'].value_counts()\n",
    "# df.groupby('ADDRTYPE')['SEVERITYCODE'].value_counts(normalize= True)\n",
    "\n",
    "\n",
    "df['WEEKDAY'] = pd.to_datetime(df['INCDATE']).dt.weekday\n",
    "df.groupby('WEEKDAY')['SEVERITYCODE'].value_counts(normalize= True)\n",
    "\n",
    "# df['SDOT_COLCODE'].value_counts()\n",
    "# df.groupby('MONTHDAY')['SEVERITYCODE'].value_counts(normalize = True)\n",
    "sns.countplot(data = df, x = 'WEEKDAY', hue = 'SEVERITYCODE')"
   ]
  },
  {
   "cell_type": "code",
   "execution_count": 6,
   "metadata": {
    "tags": []
   },
   "outputs": [
    {
     "output_type": "stream",
     "name": "stdout",
     "text": "<class 'pandas.core.frame.DataFrame'>\nRangeIndex: 194673 entries, 0 to 194672\nData columns (total 16 columns):\nSEVERITYCODE     194673 non-null int64\nADDRTYPE         192747 non-null object\nCOLLISIONTYPE    189769 non-null object\nPERSONCOUNT      194673 non-null int64\nPEDCOUNT         194673 non-null int64\nPEDCYLCOUNT      194673 non-null int64\nVEHCOUNT         194673 non-null int64\nJUNCTIONTYPE     188344 non-null object\nSDOT_COLCODE     194673 non-null int64\nUNDERINFL        189789 non-null object\nWEATHER          189592 non-null object\nROADCOND         189661 non-null object\nLIGHTCOND        189503 non-null object\nST_COLCODE       194655 non-null object\nHITPARKEDCAR     194673 non-null object\nMONTHDAY         194673 non-null int64\ndtypes: int64(7), object(9)\nmemory usage: 17.1+ MB\n"
    }
   ],
   "source": [
    "df1 = df.copy(deep = True)\n",
    "df1.drop(['X', 'Y', 'OBJECTID', 'INCKEY', 'COLDETKEY', 'REPORTNO', \n",
    "'STATUS', 'INCDATE', 'INCDTTM', 'SDOT_COLDESC', 'SDOTCOLNUM', 'ST_COLDESC','SEGLANEKEY', 'CROSSWALKKEY', 'SEVERITYCODE.1', 'SEVERITYDESC', 'LOCATION','INTKEY', \n",
    "'EXCEPTRSNCODE', 'EXCEPTRSNDESC', 'PEDROWNOTGRNT', 'SPEEDING', 'INATTENTIONIND'], axis = 1, inplace = True)\n",
    "\n",
    "df1.info()"
   ]
  },
  {
   "cell_type": "code",
   "execution_count": 70,
   "metadata": {},
   "outputs": [
    {
     "output_type": "execute_result",
     "data": {
      "text/plain": "array(['N', 'Y'], dtype=object)"
     },
     "metadata": {},
     "execution_count": 70
    }
   ],
   "source": [
    "# df1['WEATHER'].value_counts(normalize = True)\n",
    "# df1['ADDRTYPE'] = df1['ADDRTYPE'].fillna('Unknown')\n",
    "df1['HITPARKEDCAR'].unique()"
   ]
  },
  {
   "cell_type": "code",
   "execution_count": 52,
   "metadata": {},
   "outputs": [],
   "source": [
    "# df1.isnull()\n",
    "df1_nan = df1.isnull()\n",
    "rows_nan = df1_nan.any(axis=1)\n",
    "rows_nan = df1[rows_nan]\n",
    "# rows_nan.head(10)"
   ]
  },
  {
   "cell_type": "code",
   "execution_count": 110,
   "metadata": {},
   "outputs": [],
   "source": [
    "df2 = df[['SDOT_COLDESC', 'ST_COLDESC', 'COLLISIONTYPE', 'HITPARKEDCAR']].copy(deep= True)\n",
    "r, _ = np.where(df2.isna())\n",
    "r = np.unique(r).tolist()\n",
    "\n",
    "# rows_nan = df2_nan.any(axis=1)\n",
    "# rows_nan = df2[rows_nan]\n",
    "# rows_nan.head(10)\n",
    "# df.index[df['BoolCol']].tolist()\n",
    "\n",
    "# ix = df2.index[df2_nan == True].tolist()\n",
    "\n",
    "# df2.isnull()\n",
    "# df2_nan = df2.isnull()\n",
    "# rows_nan = df2_nan.any(axis=1)\n",
    "# rows_nan = df2[rows_nan]\n",
    "# rows_nan\n",
    "# rows_nan.head(2)"
   ]
  },
  {
   "cell_type": "code",
   "execution_count": 111,
   "metadata": {},
   "outputs": [
    {
     "output_type": "execute_result",
     "data": {
      "text/plain": "                                             SDOT_COLDESC ST_COLDESC  \\\n15                    MOTOR VEHICLE STRUCK OBJECT IN ROAD        NaN   \n36      MOTOR VEHICLE STRUCK MOTOR VEHICLE, FRONT END ...        NaN   \n53      MOTOR VEHICLE STRUCK MOTOR VEHICLE, FRONT END ...        NaN   \n60           MOTOR VEHICLE STRUCK MOTOR VEHICLE, REAR END        NaN   \n75      MOTOR VEHICLE STRUCK MOTOR VEHICLE, FRONT END ...        NaN   \n...                                                   ...        ...   \n194620       MOTOR VEHICLE STRUCK MOTOR VEHICLE, REAR END        NaN   \n194625                MOTOR VEHICLE STRUCK OBJECT IN ROAD        NaN   \n194646       MOTOR VEHICLE STRUCK MOTOR VEHICLE, REAR END        NaN   \n194654  MOTOR VEHICLE STRUCK MOTOR VEHICLE, FRONT END ...        NaN   \n194655                    MOTOR VEHCILE STRUCK PEDESTRIAN        NaN   \n\n       COLLISIONTYPE HITPARKEDCAR  \n15        Parked Car            N  \n36        Parked Car            N  \n53        Parked Car            N  \n60        Parked Car            N  \n75        Parked Car            N  \n...              ...          ...  \n194620    Parked Car            N  \n194625    Parked Car            N  \n194646    Parked Car            N  \n194654    Parked Car            N  \n194655    Parked Car            N  \n\n[4904 rows x 4 columns]",
      "text/html": "<div>\n<style scoped>\n    .dataframe tbody tr th:only-of-type {\n        vertical-align: middle;\n    }\n\n    .dataframe tbody tr th {\n        vertical-align: top;\n    }\n\n    .dataframe thead th {\n        text-align: right;\n    }\n</style>\n<table border=\"1\" class=\"dataframe\">\n  <thead>\n    <tr style=\"text-align: right;\">\n      <th></th>\n      <th>SDOT_COLDESC</th>\n      <th>ST_COLDESC</th>\n      <th>COLLISIONTYPE</th>\n      <th>HITPARKEDCAR</th>\n    </tr>\n  </thead>\n  <tbody>\n    <tr>\n      <td>15</td>\n      <td>MOTOR VEHICLE STRUCK OBJECT IN ROAD</td>\n      <td>NaN</td>\n      <td>Parked Car</td>\n      <td>N</td>\n    </tr>\n    <tr>\n      <td>36</td>\n      <td>MOTOR VEHICLE STRUCK MOTOR VEHICLE, FRONT END ...</td>\n      <td>NaN</td>\n      <td>Parked Car</td>\n      <td>N</td>\n    </tr>\n    <tr>\n      <td>53</td>\n      <td>MOTOR VEHICLE STRUCK MOTOR VEHICLE, FRONT END ...</td>\n      <td>NaN</td>\n      <td>Parked Car</td>\n      <td>N</td>\n    </tr>\n    <tr>\n      <td>60</td>\n      <td>MOTOR VEHICLE STRUCK MOTOR VEHICLE, REAR END</td>\n      <td>NaN</td>\n      <td>Parked Car</td>\n      <td>N</td>\n    </tr>\n    <tr>\n      <td>75</td>\n      <td>MOTOR VEHICLE STRUCK MOTOR VEHICLE, FRONT END ...</td>\n      <td>NaN</td>\n      <td>Parked Car</td>\n      <td>N</td>\n    </tr>\n    <tr>\n      <td>...</td>\n      <td>...</td>\n      <td>...</td>\n      <td>...</td>\n      <td>...</td>\n    </tr>\n    <tr>\n      <td>194620</td>\n      <td>MOTOR VEHICLE STRUCK MOTOR VEHICLE, REAR END</td>\n      <td>NaN</td>\n      <td>Parked Car</td>\n      <td>N</td>\n    </tr>\n    <tr>\n      <td>194625</td>\n      <td>MOTOR VEHICLE STRUCK OBJECT IN ROAD</td>\n      <td>NaN</td>\n      <td>Parked Car</td>\n      <td>N</td>\n    </tr>\n    <tr>\n      <td>194646</td>\n      <td>MOTOR VEHICLE STRUCK MOTOR VEHICLE, REAR END</td>\n      <td>NaN</td>\n      <td>Parked Car</td>\n      <td>N</td>\n    </tr>\n    <tr>\n      <td>194654</td>\n      <td>MOTOR VEHICLE STRUCK MOTOR VEHICLE, FRONT END ...</td>\n      <td>NaN</td>\n      <td>Parked Car</td>\n      <td>N</td>\n    </tr>\n    <tr>\n      <td>194655</td>\n      <td>MOTOR VEHCILE STRUCK PEDESTRIAN</td>\n      <td>NaN</td>\n      <td>Parked Car</td>\n      <td>N</td>\n    </tr>\n  </tbody>\n</table>\n<p>4904 rows × 4 columns</p>\n</div>"
     },
     "metadata": {},
     "execution_count": 111
    }
   ],
   "source": [
    "# df['SDOT_COLDESC'].unique()\n",
    "# df.groupby('SDOT_COLDESC')['SEVERITYCODE'].value_counts(normalize = True )\n",
    "# df2[df2['SDOT_COLDESC']=='MOTOR VEHICLE STRUCK OBJECT IN ROAD']\n",
    "df2 = df[['SDOT_COLDESC', 'ST_COLDESC', 'COLLISIONTYPE', 'HITPARKEDCAR']].copy(deep= True)\n",
    "\n",
    "mask_other = (df2['COLLISIONTYPE'].isnull()) & (df2['SDOT_COLDESC'] == 'MOTOR VEHICLE STRUCK OBJECT IN ROAD')\n",
    "\n",
    "mask_angles = (df2['COLLISIONTYPE'].isnull()) & (df2['SDOT_COLDESC'] == 'MOTOR VEHICLE STRUCK MOTOR VEHICLE, FRONT END AT ANGLE')\n",
    "\n",
    "mask_parked = (df2['COLLISIONTYPE'].isnull()) & (df2['SDOT_COLDESC'] == 'DRIVERLESS VEHICLE STRUCK MOTOR VEHICLE REAR END') & (df2['ST_COLDESC'] == 'One parked--one moving')\n",
    "\n",
    "\n",
    "df2['COLLISIONTYPE'][mask_other] = 'Other'\n",
    "df2['COLLISIONTYPE'][mask_angles] = 'Angles'\n",
    "df2['COLLISIONTYPE'][mask_parked] = 'Parked Car'\n",
    "df2.iloc[r,:]\n",
    "# df2['COLLISIONTYPE_1'] = df2['COLLISIONTYPE'].apply(lambda x: 'Other' \\\n",
    "#     if (x.isnull()) & \\\n",
    "#   (df2['SDOT_COLDESC'] == 'MOTOR VEHICLE STRUCK OBJECT IN ROAD'))"
   ]
  },
  {
   "cell_type": "code",
   "execution_count": 78,
   "metadata": {},
   "outputs": [
    {
     "output_type": "execute_result",
     "data": {
      "text/plain": "array(['MOTOR VEHICLE STRUCK MOTOR VEHICLE, FRONT END AT ANGLE',\n       'MOTOR VEHICLE STRUCK MOTOR VEHICLE, LEFT SIDE SIDESWIPE',\n       'MOTOR VEHICLE STRUCK MOTOR VEHICLE, REAR END',\n       'PEDALCYCLIST STRUCK MOTOR VEHICLE FRONT END AT ANGLE',\n       'MOTOR VEHICLE STRUCK MOTOR VEHICLE, LEFT SIDE AT ANGLE',\n       'MOTOR VEHICLE STRUCK OBJECT IN ROAD',\n       'MOTOR VEHICLE RAN OFF ROAD - HIT FIXED OBJECT',\n       'MOTOR VEHICLE STRUCK PEDALCYCLIST, FRONT END AT ANGLE',\n       'DRIVERLESS VEHICLE STRUCK MOTOR VEHICLE REAR END',\n       'NOT ENOUGH INFORMATION / NOT APPLICABLE',\n       'MOTOR VEHCILE STRUCK PEDESTRIAN',\n       'PEDALCYCLIST OVERTURNED IN ROAD',\n       'MOTOR VEHICLE STRUCK MOTOR VEHICLE, RIGHT SIDE AT ANGLE',\n       'MOTOR VEHICLE STRUCK PEDALCYCLIST, REAR END',\n       'MOTOR VEHICLE STRUCK PEDALCYCLIST, LEFT SIDE SIDESWIPE',\n       'MOTOR VEHICLE OVERTURNED IN ROAD',\n       'MOTOR VEHICLE RAN OFF ROAD - NO COLLISION',\n       'DRIVERLESS VEHICLE RAN OFF ROAD - HIT FIXED OBJECT',\n       'MOTOR VEHICLE STRUCK MOTOR VEHICLE, RIGHT SIDE SIDESWIPE',\n       'PEDALCYCLIST STRUCK MOTOR VEHICLE RIGHT SIDE SIDESWIPE',\n       'DRIVERLESS VEHICLE STRUCK MOTOR VEHICLE LEFT SIDE AT ANGLE',\n       'PEDALCYCLIST STRUCK MOTOR VEHICLE LEFT SIDE SIDESWIPE',\n       'PEDALCYCLIST STRUCK MOTOR VEHICLE REAR END',\n       'DRIVERLESS VEHICLE STRUCK MOTOR VEHICLE FRONT END AT ANGLE',\n       'DRIVERLESS VEHICLE STRUCK PEDESTRIAN',\n       'DRIVERLESS VEHICLE STRUCK MOTOR VEHICLE RIGHT SIDE AT ANGLE ',\n       'MOTOR VEHICLE STRUCK TRAIN', 'PEDALCYCLIST STRUCK OBJECT IN ROAD',\n       'DRIVERLESS VEHICLE STRUCK MOTOR VEHICLE LEFT SIDE SIDESWIPE',\n       'PEDALCYCLIST STRUCK PEDESTRIAN',\n       'MOTOR VEHICLE STRUCK PEDALCYCLIST, RIGHT SIDE SIDESWIPE',\n       'PEDALCYCLIST STRUCK PEDALCYCLIST FRONT END AT ANGLE',\n       'DRIVERLESS VEHICLE RAN OFF ROAD - NO COLLISION',\n       'PEDALCYCLIST STRUCK PEDALCYCLIST REAR END',\n       'DRIVERLESS VEHICLE STRUCK MOTOR VEHICLE RIGHT SIDE SIDESWIPE',\n       'PEDALCYCLIST STRUCK MOTOR VEHICLE LEFT SIDE AT ANGLE',\n       'DRIVERLESS VEHICLE STRUCK OBJECT IN ROADWAY',\n       'PEDALCYCLIST RAN OFF ROAD - HIT FIXED OBJECT',\n       'PEDALCYCLIST STRUCK MOTOR VEHICLE RIGHT SIDE AT ANGLE'],\n      dtype=object)"
     },
     "metadata": {},
     "execution_count": 78
    }
   ],
   "source": [
    "df2['SDOT_COLDESC'].unique()\n",
    "# df2['COLLISIONTYPE'].unique()"
   ]
  },
  {
   "cell_type": "code",
   "execution_count": 104,
   "metadata": {},
   "outputs": [
    {
     "output_type": "execute_result",
     "data": {
      "text/plain": "54719"
     },
     "metadata": {},
     "execution_count": 104
    }
   ],
   "source": [
    "a = np.array(df2['SDOT_COLDESC'].str.find('REAR END').tolist())\n",
    "b, = np.where(a!= -1)\n",
    "b = b.tolist()\n",
    "len(b)"
   ]
  },
  {
   "cell_type": "code",
   "execution_count": 88,
   "metadata": {},
   "outputs": [
    {
     "output_type": "execute_result",
     "data": {
      "text/plain": "                                            SDOT_COLDESC  \\\n32      DRIVERLESS VEHICLE STRUCK MOTOR VEHICLE REAR END   \n3397    DRIVERLESS VEHICLE STRUCK MOTOR VEHICLE REAR END   \n6041    DRIVERLESS VEHICLE STRUCK MOTOR VEHICLE REAR END   \n9299    DRIVERLESS VEHICLE STRUCK MOTOR VEHICLE REAR END   \n9471    DRIVERLESS VEHICLE STRUCK MOTOR VEHICLE REAR END   \n...                                                  ...   \n170198  DRIVERLESS VEHICLE STRUCK MOTOR VEHICLE REAR END   \n170845  DRIVERLESS VEHICLE STRUCK MOTOR VEHICLE REAR END   \n179888  DRIVERLESS VEHICLE STRUCK MOTOR VEHICLE REAR END   \n182586  DRIVERLESS VEHICLE STRUCK MOTOR VEHICLE REAR END   \n182976  DRIVERLESS VEHICLE STRUCK MOTOR VEHICLE REAR END   \n\n                                               ST_COLDESC COLLISIONTYPE  \\\n32                                 One parked--one moving    Parked Car   \n3397                               One parked--one moving    Parked Car   \n6041                               One parked--one moving    Parked Car   \n9299                               One parked--one moving    Parked Car   \n9471    From same direction - both going straight - on...    Rear Ended   \n...                                                   ...           ...   \n170198                             One parked--one moving    Parked Car   \n170845                             One parked--one moving    Parked Car   \n179888                                  Entering at angle        Angles   \n182586                             One parked--one moving    Parked Car   \n182976                                                NaN           NaN   \n\n       HITPARKEDCAR  SEVERITYCODE  VEHCOUNT  \n32                N             1         2  \n3397              N             1         3  \n6041              N             1         2  \n9299              N             1         2  \n9471              N             1         3  \n...             ...           ...       ...  \n170198            Y             1         2  \n170845            N             1         4  \n179888            N             1         2  \n182586            Y             1         3  \n182976            N             1         0  \n\n[93 rows x 6 columns]",
      "text/html": "<div>\n<style scoped>\n    .dataframe tbody tr th:only-of-type {\n        vertical-align: middle;\n    }\n\n    .dataframe tbody tr th {\n        vertical-align: top;\n    }\n\n    .dataframe thead th {\n        text-align: right;\n    }\n</style>\n<table border=\"1\" class=\"dataframe\">\n  <thead>\n    <tr style=\"text-align: right;\">\n      <th></th>\n      <th>SDOT_COLDESC</th>\n      <th>ST_COLDESC</th>\n      <th>COLLISIONTYPE</th>\n      <th>HITPARKEDCAR</th>\n      <th>SEVERITYCODE</th>\n      <th>VEHCOUNT</th>\n    </tr>\n  </thead>\n  <tbody>\n    <tr>\n      <td>32</td>\n      <td>DRIVERLESS VEHICLE STRUCK MOTOR VEHICLE REAR END</td>\n      <td>One parked--one moving</td>\n      <td>Parked Car</td>\n      <td>N</td>\n      <td>1</td>\n      <td>2</td>\n    </tr>\n    <tr>\n      <td>3397</td>\n      <td>DRIVERLESS VEHICLE STRUCK MOTOR VEHICLE REAR END</td>\n      <td>One parked--one moving</td>\n      <td>Parked Car</td>\n      <td>N</td>\n      <td>1</td>\n      <td>3</td>\n    </tr>\n    <tr>\n      <td>6041</td>\n      <td>DRIVERLESS VEHICLE STRUCK MOTOR VEHICLE REAR END</td>\n      <td>One parked--one moving</td>\n      <td>Parked Car</td>\n      <td>N</td>\n      <td>1</td>\n      <td>2</td>\n    </tr>\n    <tr>\n      <td>9299</td>\n      <td>DRIVERLESS VEHICLE STRUCK MOTOR VEHICLE REAR END</td>\n      <td>One parked--one moving</td>\n      <td>Parked Car</td>\n      <td>N</td>\n      <td>1</td>\n      <td>2</td>\n    </tr>\n    <tr>\n      <td>9471</td>\n      <td>DRIVERLESS VEHICLE STRUCK MOTOR VEHICLE REAR END</td>\n      <td>From same direction - both going straight - on...</td>\n      <td>Rear Ended</td>\n      <td>N</td>\n      <td>1</td>\n      <td>3</td>\n    </tr>\n    <tr>\n      <td>...</td>\n      <td>...</td>\n      <td>...</td>\n      <td>...</td>\n      <td>...</td>\n      <td>...</td>\n      <td>...</td>\n    </tr>\n    <tr>\n      <td>170198</td>\n      <td>DRIVERLESS VEHICLE STRUCK MOTOR VEHICLE REAR END</td>\n      <td>One parked--one moving</td>\n      <td>Parked Car</td>\n      <td>Y</td>\n      <td>1</td>\n      <td>2</td>\n    </tr>\n    <tr>\n      <td>170845</td>\n      <td>DRIVERLESS VEHICLE STRUCK MOTOR VEHICLE REAR END</td>\n      <td>One parked--one moving</td>\n      <td>Parked Car</td>\n      <td>N</td>\n      <td>1</td>\n      <td>4</td>\n    </tr>\n    <tr>\n      <td>179888</td>\n      <td>DRIVERLESS VEHICLE STRUCK MOTOR VEHICLE REAR END</td>\n      <td>Entering at angle</td>\n      <td>Angles</td>\n      <td>N</td>\n      <td>1</td>\n      <td>2</td>\n    </tr>\n    <tr>\n      <td>182586</td>\n      <td>DRIVERLESS VEHICLE STRUCK MOTOR VEHICLE REAR END</td>\n      <td>One parked--one moving</td>\n      <td>Parked Car</td>\n      <td>Y</td>\n      <td>1</td>\n      <td>3</td>\n    </tr>\n    <tr>\n      <td>182976</td>\n      <td>DRIVERLESS VEHICLE STRUCK MOTOR VEHICLE REAR END</td>\n      <td>NaN</td>\n      <td>NaN</td>\n      <td>N</td>\n      <td>1</td>\n      <td>0</td>\n    </tr>\n  </tbody>\n</table>\n<p>93 rows × 6 columns</p>\n</div>"
     },
     "metadata": {},
     "execution_count": 88
    }
   ],
   "source": [
    "df2[df2['SDOT_COLDESC'] == 'DRIVERLESS VEHICLE STRUCK MOTOR VEHICLE REAR END']"
   ]
  },
  {
   "cell_type": "code",
   "execution_count": 81,
   "metadata": {},
   "outputs": [
    {
     "output_type": "execute_result",
     "data": {
      "text/plain": "array(['Entering at angle',\n       'From same direction - both going straight - both moving - sideswipe',\n       'One parked--one moving', 'From same direction - all others',\n       'Vehicle Strikes Pedalcyclist', 'One car leaving driveway access',\n       'From same direction - both going straight - one stopped - rear-end',\n       'From opposite direction - all others', nan,\n       'From opposite direction - one left turn - one straight',\n       'Other object',\n       'From same direction - both going straight - both moving - rear-end',\n       'Fixed object',\n       'From same direction - both going straight - one stopped - sideswipe',\n       'Vehicle - Pedalcyclist', 'Vehicle going straight hits pedestrian',\n       'One car leaving parked position',\n       'One car entering driveway access',\n       'Vehicle turning right hits pedestrian', 'Vehicle overturned',\n       'From same direction - one right turn - one straight',\n       'From same direction - one left turn - one straight',\n       'Same direction -- both turning right -- one stopped -- rear end',\n       'Same direction -- both turning left -- both moving -- sideswipe',\n       'From opposite direction - both going straight - sideswipe',\n       'One car entering parked position',\n       'Vehicle turning left hits pedestrian',\n       'Vehicle Hits Other Road or Construction Machinery',\n       'Same direction -- both turning right -- both moving -- sideswipe',\n       'Vehicle backing hits pedestrian',\n       'From opposite direction - both moving - head-on',\n       'Railway Vehicle Strikes Vehicle', 'All other non-collision',\n       'Pedalcyclist Strikes Moving Vehicle',\n       'Same direction -- both turning left -- both moving -- rear end',\n       'From opposite direction - one stopped - head-on',\n       'From opposite direction - both going straight - one stopped - sideswipe',\n       'Vehicle hits Pedestrian - All Other Actions',\n       'Same direction -- both turning right -- one stopped -- sideswipe',\n       'From opposite direction - one left turn - one right turn',\n       'Breakage of any part of the vehicle resulting in injury or in further property damage',\n       'Same direction -- both turning right -- both moving -- rear end',\n       'Vehicle Strikes Railway Vehicle',\n       'Strikes or Was Struck by Object from the Load of Another Vehicle',\n       'Vehicle Struck by City Road or Construction Machinery',\n       'Same direction -- both turning left -- one stopped -- sideswipe',\n       'Vehicle Struck by Other Road or Construction Machinery',\n       'Non-domestic animal (deer, bear, elk, etc)',\n       'Same direction -- both turning left -- one stopped -- rear end',\n       'Not stated', 'Railway Vehicle Strikes Pedalcyclist',\n       'Railway Vehicle Strikes Pedestrian',\n       'Domestic animal other (cat, dog, etc)',\n       'Vehicle Hits City Road or Construction Machinery',\n       'Person fell, jumped or was pushed from vehicle',\n       'Fire started in vehicle',\n       'Vehicle Hits State Road or Construction Machinery',\n       'Vehicle Strikes All Other Non-Domestic Animal',\n       'Pedalcyclist Strikes Pedalcyclist or Pedestrian',\n       'Pedalcyclist All Other Involvements ONE UNIT - PEDALCYCLIST ONLY or PEDALCYCLIST STR',\n       'Vehicle Strikes Deer', 'All Other Multi Vehicle',\n       'Strikes or Was Struck by a Part of Another Vehicle (Not from Load)'],\n      dtype=object)"
     },
     "metadata": {},
     "execution_count": 81
    }
   ],
   "source": [
    "df['ST_COLDESC'].unique()"
   ]
  },
  {
   "cell_type": "code",
   "execution_count": 106,
   "metadata": {},
   "outputs": [
    {
     "output_type": "execute_result",
     "data": {
      "text/plain": "VEHCOUNT  SEVERITYCODE\n0         1               0.758702\n          2               0.241298\n1         2               0.547810\n          1               0.452190\n2         1               0.756526\n          2               0.243474\n3         1               0.579554\n          2               0.420446\n4         1               0.555647\n          2               0.444353\n5         1               0.506616\n          2               0.493384\n6         1               0.589041\n          2               0.410959\n7         1               0.521739\n          2               0.478261\n8         1               0.666667\n          2               0.333333\n9         2               0.666667\n          1               0.333333\n10        2               1.000000\n11        1               0.500000\n          2               0.500000\n12        1               1.000000\nName: SEVERITYCODE, dtype: float64"
     },
     "metadata": {},
     "execution_count": 106
    }
   ],
   "source": [
    "df.groupby('VEHCOUNT')['SEVERITYCODE'].value_counts(normalize = True)"
   ]
  },
  {
   "cell_type": "code",
   "execution_count": null,
   "metadata": {},
   "outputs": [],
   "source": []
  }
 ]
}