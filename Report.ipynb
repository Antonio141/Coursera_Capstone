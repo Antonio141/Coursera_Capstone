{
 "metadata": {
  "language_info": {
   "codemirror_mode": {
    "name": "ipython",
    "version": 3
   },
   "file_extension": ".py",
   "mimetype": "text/x-python",
   "name": "python",
   "nbconvert_exporter": "python",
   "pygments_lexer": "ipython3",
   "version": 3
  },
  "orig_nbformat": 2
 },
 "nbformat": 4,
 "nbformat_minor": 2,
 "cells": [
  {
   "source": [
    "# SEVERITY PREDICTION REPORT \n",
    "\n",
    "## BUSINESS UNDERSTANDING\n",
    "This work aims to develop a model capable of predicting the severity of an accident given the conditions circumstancial to the episode.\n",
    "The model is trained over a dataset containing the conditions of traffic, light, weather etc... present at the moment of the accident.\n",
    "Such model will then be trained to predict severity given these conditions so to allow the interested entities to be prepared and act fast for when an emergency comes.\n",
    "\n",
    "\n",
    "## DATA PREPARATION\n",
    "This phase consists of different steps of work on the data:\n",
    "\n",
    "    1. Selecting the column that tracks the description of the accident's severity 'SEVERITYCODE'\n",
    "    2. Select the most important features that may influence the final result:\n",
    "        - Road, Light and Weather Conditions ('ROADCOND', 'LIGHTCOND', 'WEATHER')\n",
    "        - The city district in which the accident happened, obtained from the coordinates columns ('X','Y')\n",
    "        - The kind of spot in which the accident took place as 'Interception', 'Block', 'Alley' ('ADDRTYPE')\n",
    "        - The number of people, pedons and cyclists involved ('PEDCOUNT', 'PERSONCOUNT', 'PEDCYLCOUNT')\n",
    "        - The day of the week in which the accident took place ('INCDATE')\n",
    "    3. Adjust the data format changing from text to numerical values \n",
    "    4. Take care of the NaN values spread around the dataframe\n",
    "    4. Remove the duplicates columns and the ones that don't contribute in any way to the model development\n",
    "    5. Check for columns with strong correlation between each other so to clear and simplify the dataset\n",
    "     "
   ],
   "cell_type": "markdown",
   "metadata": {}
  },
  {
   "cell_type": "code",
   "execution_count": null,
   "metadata": {},
   "outputs": [],
   "source": []
  }
 ]
}